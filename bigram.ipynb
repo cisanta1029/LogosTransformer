{
 "cells": [
  {
   "cell_type": "code",
   "execution_count": 1,
   "id": "9eb78fab-14d2-48cf-9ae5-b871bc765a6b",
   "metadata": {},
   "outputs": [
    {
     "name": "stdout",
     "output_type": "stream",
     "text": [
      "cpu\n"
     ]
    }
   ],
   "source": [
    "import torch\n",
    "import torch.nn as nn\n",
    "from torch.nn import functional as F\n",
    "device = 'cuda' if torch.cuda.is_available() else 'cpu'\n",
    "print(device)\n",
    "\n",
    "block_size = 8\n",
    "batch_size = 4\n",
    "\n",
    "max_iters = 10000\n",
    "learning_rate = 3e-4\n",
    "eval_iters = 250\n",
    "\n",
    "dropout = 0.2"
   ]
  },
  {
   "cell_type": "code",
   "execution_count": 2,
   "id": "6bc7ea54-fe5d-4d71-a724-dd553765085c",
   "metadata": {},
   "outputs": [
    {
     "name": "stdout",
     "output_type": "stream",
     "text": [
      "\n",
      "\n",
      "=== PLATO ===\n",
      "\n",
      "How you, O Athenians, have been affected by my accusers, I cannot tell;\n",
      "but I know that they almost made me forget who I was—so persuasively\n",
      "did they speak; and yet they have hardly \n"
     ]
    }
   ],
   "source": [
    "# read in our corpus into text string\n",
    "\n",
    "with open('data\\philosophers.txt','r', encoding='utf-8') as f:\n",
    "    text = f.read()\n",
    "print(text[:200])"
   ]
  },
  {
   "cell_type": "code",
   "execution_count": 3,
   "id": "b0d6d79d-341e-48ae-9447-e33f42f4b6df",
   "metadata": {},
   "outputs": [
    {
     "name": "stdout",
     "output_type": "stream",
     "text": [
      "['\\n', ' ', '!', '\"', \"'\", '(', ')', '*', ',', '-', '.', '0', '1', '2', '3', '4', '5', '6', '7', '8', '9', ':', ';', '=', '?', 'A', 'B', 'C', 'D', 'E', 'F', 'G', 'H', 'I', 'J', 'K', 'L', 'M', 'N', 'O', 'P', 'Q', 'R', 'S', 'T', 'U', 'V', 'W', 'X', 'Y', 'Z', '[', ']', '_', 'a', 'b', 'c', 'd', 'e', 'f', 'g', 'h', 'i', 'j', 'k', 'l', 'm', 'n', 'o', 'p', 'q', 'r', 's', 't', 'u', 'v', 'w', 'x', 'y', 'z', 'æ', '—', '’', '“', '”', '\\ufeff']\n"
     ]
    }
   ],
   "source": [
    "# list of unique characters in the corpus\n",
    "\n",
    "chars = sorted(set(text))\n",
    "print(chars)\n",
    "vocabulary_size = len(chars)"
   ]
  },
  {
   "cell_type": "code",
   "execution_count": 4,
   "id": "0ac13923-fc9b-4c63-91e6-db58e0aaaed4",
   "metadata": {},
   "outputs": [],
   "source": [
    "# encoder and decoder for strings to integers and vice versa\n",
    "\n",
    "string_to_int = {ch:i for i,ch in enumerate(chars)}\n",
    "int_to_string = {i:ch for i,ch in enumerate(chars)}\n",
    "encode = lambda s: [string_to_int[c] for c in s]\n",
    "decode = lambda l: ''.join([int_to_string[i] for i in l])"
   ]
  },
  {
   "cell_type": "code",
   "execution_count": 5,
   "id": "e1c2aa1a-b794-4948-98fd-44537820a024",
   "metadata": {},
   "outputs": [
    {
     "name": "stdout",
     "output_type": "stream",
     "text": [
      "[61, 58, 65, 65, 68]\n",
      "hello\n"
     ]
    }
   ],
   "source": [
    "# example of encoder and decoder at work\n",
    "\n",
    "encoded_hello = encode('hello')\n",
    "decoded_hello = decode(encoded_hello)\n",
    "print(encoded_hello)\n",
    "print(decoded_hello)"
   ]
  },
  {
   "cell_type": "code",
   "execution_count": 6,
   "id": "1d1e0cc3-9a8a-4ef3-9c2f-3b46193d8de1",
   "metadata": {},
   "outputs": [],
   "source": [
    "# encode the entire text into a tensor\n",
    "\n",
    "data = torch.tensor(encode(text), dtype=torch.long)"
   ]
  },
  {
   "cell_type": "code",
   "execution_count": 7,
   "id": "aa26b072-73bb-42a1-94c2-eec55fc768ba",
   "metadata": {},
   "outputs": [
    {
     "name": "stdout",
     "output_type": "stream",
     "text": [
      "tensor([85,  0,  0, 23, 23, 23,  1, 40, 36, 25, 44, 39,  1, 23, 23, 23,  0,  0,\n",
      "        32, 68, 76,  1, 78, 68, 74,  8,  1, 39,  1, 25, 73, 61, 58, 67, 62, 54,\n",
      "        67, 72,  8,  1, 61, 54, 75, 58,  1, 55, 58, 58, 67,  1, 54, 59, 59, 58,\n",
      "        56, 73, 58, 57,  1, 55, 78,  1, 66, 78,  1, 54, 56, 56, 74, 72, 58, 71,\n",
      "        72,  8,  1, 33,  1, 56, 54, 67, 67, 68, 73,  1, 73, 58, 65, 65, 22,  0,\n",
      "        55, 74, 73,  1, 33,  1, 64, 67, 68, 76])\n"
     ]
    }
   ],
   "source": [
    "print(data[:100])"
   ]
  },
  {
   "cell_type": "code",
   "execution_count": 8,
   "id": "f61eaea0-6c2c-4d29-bffd-53ddb21416eb",
   "metadata": {},
   "outputs": [],
   "source": [
    "# use first 80% of corpus for training; remaining 20% for validation\n",
    "n = int(0.8 * len(data))\n",
    "train_data = data[:n]\n",
    "val_data = data[n:]\n",
    "\n",
    "def get_batch(split):\n",
    "    data = train_data if split == 'train' else val_data\n",
    "    ix = torch.randint(len(data) - block_size, (batch_size,))\n",
    "    #print(ix)\n",
    "    x = torch.stack([data[i:i+block_size] for i in ix])\n",
    "    y = torch.stack([data[i+1:i+block_size+1] for i in ix])\n",
    "    x,y = x.to(device), y.to(device)\n",
    "    return x, y"
   ]
  },
  {
   "cell_type": "code",
   "execution_count": 9,
   "id": "9fec92c6",
   "metadata": {},
   "outputs": [
    {
     "name": "stdout",
     "output_type": "stream",
     "text": [
      "inputs:\n",
      "tensor([[72, 68, 65, 74, 73, 58,  1, 60],\n",
      "        [54, 67,  1, 59, 54, 56, 74, 65],\n",
      "        [54, 56, 73, 62, 75, 62, 73, 78],\n",
      "        [66, 62, 77, 73, 74, 71, 58,  8]])\n",
      "targets:\n",
      "tensor([[68, 65, 74, 73, 58,  1, 60, 68],\n",
      "        [67,  1, 59, 54, 56, 74, 65, 73],\n",
      "        [56, 73, 62, 75, 62, 73, 78,  1],\n",
      "        [62, 77, 73, 74, 71, 58,  8,  1]])\n"
     ]
    }
   ],
   "source": [
    "x, y = get_batch('train')\n",
    "print('inputs:')\n",
    "print(x)\n",
    "print('targets:')\n",
    "print(y)"
   ]
  },
  {
   "cell_type": "code",
   "execution_count": 10,
   "id": "032ebe4a-4dcc-49ac-81b8-511e2fb79ef3",
   "metadata": {},
   "outputs": [
    {
     "name": "stdout",
     "output_type": "stream",
     "text": [
      "when input is tensor([85]), target is 0\n",
      "when input is tensor([85,  0]), target is 0\n",
      "when input is tensor([85,  0,  0]), target is 23\n",
      "when input is tensor([85,  0,  0, 23]), target is 23\n",
      "when input is tensor([85,  0,  0, 23, 23]), target is 23\n",
      "when input is tensor([85,  0,  0, 23, 23, 23]), target is 1\n",
      "when input is tensor([85,  0,  0, 23, 23, 23,  1]), target is 40\n",
      "when input is tensor([85,  0,  0, 23, 23, 23,  1, 40]), target is 36\n"
     ]
    }
   ],
   "source": [
    "# sample of context and targets at work. context representing what the model sees, and target represents what the model is trying to predict.\n",
    "x = train_data[:block_size]\n",
    "y = train_data [1:block_size+1]\n",
    "\n",
    "for t in range (block_size):\n",
    "    context = x[:t+1]\n",
    "    target = y[t]\n",
    "    print(f'when input is {context}, target is {target}')"
   ]
  },
  {
   "cell_type": "code",
   "execution_count": 11,
   "id": "0ba36094-eb84-4f03-9d3a-86649b5eda8b",
   "metadata": {},
   "outputs": [],
   "source": [
    "class BigramLanguageModel(nn.Module):\n",
    "    def __init__(self, vocabulary_size):\n",
    "        super().__init__()\n",
    "        self.token_embeddings_table = nn.Embedding(vocabulary_size, vocabulary_size)\n",
    "\n",
    "    def forward(self, index, targets=None):\n",
    "        logits = self.token_embeddings_table(index)\n",
    "\n",
    "        if targets is None:\n",
    "            loss = None\n",
    "        else:\n",
    "            B, T, C = logits.shape\n",
    "            logits = logits.view(B*T, C)\n",
    "            targets = targets.view(B*T)\n",
    "            loss = F.cross_entropy(logits, targets)\n",
    "\n",
    "        return logits, loss\n",
    "    \n",
    "    def generate(self, index, max_new_tokens):\n",
    "        # index is (B,T) array of indicdes in the current context\n",
    "        for _ in range(max_new_tokens):\n",
    "            # get the predictions\n",
    "            logits, loss = self.forward(index)\n",
    "            # focus only on the last time step\n",
    "            logits = logits[:, -1, :] # becomes (B,C)\n",
    "            # apply softmax to get probabilities\n",
    "            probs = F.softmax(logits, dim=-1) # (B,C)\n",
    "            # sample from the distribution\n",
    "            index_next = torch.multinomial(probs, num_samples=1) # (B,1)\n",
    "            # append sampled index to the running sequence\n",
    "            index = torch.cat((index, index_next), dim=1) # (B, T+1)\n",
    "        return index"
   ]
  },
  {
   "cell_type": "code",
   "execution_count": 12,
   "id": "316d58bd",
   "metadata": {},
   "outputs": [
    {
     "name": "stdout",
     "output_type": "stream",
     "text": [
      "\n",
      "v.-L“L-'Llæ)oL:lVit7dbnq'_I2d7?“yjIAfY:Z?U'(rpe)bN\n",
      "gVZjpQaA.gHP*M0—G-1drM;9fk;N7-IS9iCXI8Qrfu,Rdbq l?dY5E]﻿Y“G﻿Q5﻿F3CU'L2er)TulBt”Du”j)Ad95s)oN8XlD:fnZfkh6=?jI﻿QwN1)DSilOx7?3Y(t*4e:Wqm2J'55)fUHrl5s yICU:WMfRCo)W;M:A,TFRM\"Pz—TcAvæ!OE]q )Rq'F31k(’F-0xBMM79xwt?zCM\"n\"æyc.f2:tZwclUyHVKjMJ[)S=Ri)dh6ksKitTShbv2XgK-52-kwd9(cAwVi)Sm(V'P7:WWi L”IZ4MIs”fA'\"X.HP9=e\"E3[uK3?hn:pm8﻿v4H—SSv“57?\n",
      "uF]V3'_rCEa_V*l3JFA3pch9rv.K*B0s.WS WqXezZi88jmKCq—kHIgEMJ]WQtL,Q3C-GEQmT-Y.HZjQrgTaOZL“h6u[As“;srxXwoU'—11'PlDS Rr=c”\n"
     ]
    }
   ],
   "source": [
    "model = BigramLanguageModel(vocabulary_size)\n",
    "m = model.to(device)\n",
    "\n",
    "context = torch.zeros((1,1), dtype=torch.long, device=device)\n",
    "generated_chars = decode(m.generate(context, max_new_tokens=500)[0].tolist())\n",
    "print(generated_chars)"
   ]
  },
  {
   "cell_type": "code",
   "execution_count": 13,
   "id": "dd06c044",
   "metadata": {},
   "outputs": [],
   "source": [
    "@torch.no_grad()\n",
    "def estimate_loss():\n",
    "    out = {}\n",
    "    model.eval()\n",
    "    for split in ['train','val']:\n",
    "        losses = torch.zeros(eval_iters)\n",
    "        for k in range(eval_iters):\n",
    "            X,Y = get_batch(split)\n",
    "            logits, loss = model(X,Y)\n",
    "            losses[k] = loss.item()\n",
    "        out[split] = losses.mean()\n",
    "    model.train()\n",
    "    return out"
   ]
  },
  {
   "cell_type": "code",
   "execution_count": 21,
   "id": "97ecf58d",
   "metadata": {},
   "outputs": [
    {
     "name": "stdout",
     "output_type": "stream",
     "text": [
      "step: 0, train loss 2.3941, validation loss 2.3943\n",
      "step: 250, train loss 2.4280, validation loss 2.3898\n",
      "step: 500, train loss 2.4226, validation loss 2.4170\n",
      "step: 750, train loss 2.3899, validation loss 2.4025\n",
      "step: 1000, train loss 2.4453, validation loss 2.4058\n",
      "step: 1250, train loss 2.3836, validation loss 2.3982\n",
      "step: 1500, train loss 2.4284, validation loss 2.3959\n",
      "step: 1750, train loss 2.4261, validation loss 2.3951\n",
      "step: 2000, train loss 2.4338, validation loss 2.3833\n",
      "step: 2250, train loss 2.4230, validation loss 2.3849\n",
      "step: 2500, train loss 2.3981, validation loss 2.3785\n",
      "step: 2750, train loss 2.4091, validation loss 2.3945\n",
      "step: 3000, train loss 2.4084, validation loss 2.4106\n",
      "step: 3250, train loss 2.4040, validation loss 2.4023\n",
      "step: 3500, train loss 2.4091, validation loss 2.3996\n",
      "step: 3750, train loss 2.3925, validation loss 2.4037\n",
      "step: 4000, train loss 2.3998, validation loss 2.3767\n",
      "step: 4250, train loss 2.3885, validation loss 2.4098\n",
      "step: 4500, train loss 2.4166, validation loss 2.4274\n",
      "step: 4750, train loss 2.4018, validation loss 2.4074\n",
      "step: 5000, train loss 2.4003, validation loss 2.3991\n",
      "step: 5250, train loss 2.3948, validation loss 2.4160\n",
      "step: 5500, train loss 2.3947, validation loss 2.3965\n",
      "step: 5750, train loss 2.4223, validation loss 2.3854\n",
      "step: 6000, train loss 2.3893, validation loss 2.3916\n",
      "step: 6250, train loss 2.4015, validation loss 2.4177\n",
      "step: 6500, train loss 2.4270, validation loss 2.3847\n",
      "step: 6750, train loss 2.4079, validation loss 2.3909\n",
      "step: 7000, train loss 2.4092, validation loss 2.3718\n",
      "step: 7250, train loss 2.4015, validation loss 2.3887\n",
      "step: 7500, train loss 2.4007, validation loss 2.3776\n",
      "step: 7750, train loss 2.4184, validation loss 2.3880\n",
      "step: 8000, train loss 2.4218, validation loss 2.3842\n",
      "step: 8250, train loss 2.3850, validation loss 2.4038\n",
      "step: 8500, train loss 2.3970, validation loss 2.3903\n",
      "step: 8750, train loss 2.3938, validation loss 2.3842\n",
      "step: 9000, train loss 2.4065, validation loss 2.4091\n",
      "step: 9250, train loss 2.3918, validation loss 2.4101\n",
      "step: 9500, train loss 2.4217, validation loss 2.3656\n",
      "step: 9750, train loss 2.3914, validation loss 2.3976\n",
      "1.7951217889785767\n"
     ]
    }
   ],
   "source": [
    "# create the optimizer\n",
    "\n",
    "optimizer = torch.optim.AdamW(model.parameters(), lr=learning_rate)\n",
    "\n",
    "for iter in range(max_iters):\n",
    "    if iter % eval_iters == 0:\n",
    "        losses = estimate_loss()\n",
    "        print(f\"step: {iter}, train loss {losses['train']:.4f}, validation loss {losses['val']:.4f}\")\n",
    "        \n",
    "\n",
    "    # sample a batch of data\n",
    "    xb, yb = get_batch('train')\n",
    "\n",
    "    # evaluate the loss\n",
    "    logits, loss = model.forward(xb, yb)\n",
    "    optimizer.zero_grad(set_to_none=True) # clear existing gradients in the optimizer - set to none to occupy less space\n",
    "    loss.backward() #backward pass\n",
    "    optimizer.step() # lets gradient descent work\n",
    "print(loss.item())"
   ]
  },
  {
   "cell_type": "code",
   "execution_count": null,
   "id": "7925be58",
   "metadata": {},
   "outputs": [],
   "source": []
  },
  {
   "cell_type": "code",
   "execution_count": null,
   "id": "1b9b31e0",
   "metadata": {},
   "outputs": [],
   "source": []
  },
  {
   "cell_type": "code",
   "execution_count": null,
   "id": "461c1cb9",
   "metadata": {},
   "outputs": [],
   "source": []
  },
  {
   "cell_type": "code",
   "execution_count": null,
   "id": "caae109e",
   "metadata": {},
   "outputs": [],
   "source": []
  },
  {
   "cell_type": "code",
   "execution_count": 28,
   "id": "9f080bd1",
   "metadata": {},
   "outputs": [],
   "source": [
    "vocab = ['a', 'b', 'c']\n",
    "vocab_size = len(vocab)\n",
    "stoi = {ch:i for i,ch in enumerate(vocab)}   # char -> index\n",
    "itos = {i:ch for i,ch in enumerate(vocab)}   # index -> char\n",
    "\n",
    "def decode(indices):\n",
    "    return ''.join(itos[i] for i in indices)\n",
    "\n"
   ]
  },
  {
   "cell_type": "code",
   "execution_count": null,
   "id": "0313a4bc",
   "metadata": {},
   "outputs": [],
   "source": [
    "import torch\n",
    "import torch.nn as nn\n",
    "import torch.nn.functional as F\n",
    "\n",
    "class BigramLanguageModel(nn.Module):\n",
    "    def __init__(self, vocabulary_size):\n",
    "        super().__init__()\n",
    "        self.token_embeddings_table = nn.Embedding(vocabulary_size, vocabulary_size)\n",
    "\n",
    "    def forward(self, index, targets=None):\n",
    "        print(f'index: {index}')\n",
    "        logits = self.token_embeddings_table(index)  # (B,T,C)\n",
    "        B, T, C = logits.shape\n",
    "        logits = logits.view(B*T, C)\n",
    "        if targets is None:\n",
    "            loss = None\n",
    "        else:\n",
    "            targets = targets.view(B*T)\n",
    "            loss = F.cross_entropy(logits, targets)\n",
    "        return logits.view(B, T, C), loss\n",
    "\n",
    "    def generate(self, index, max_new_tokens):\n",
    "        for _ in range(max_new_tokens):\n",
    "            logits, _ = self.forward(index)          # (B,T,C)\n",
    "            #print(f'index {index}')\n",
    "            print(logits)\n",
    "            logits = logits[:, -1, :]                # take last time step -> (B,C)\n",
    "            #print('last')\n",
    "            #print(logits)\n",
    "            probs = F.softmax(logits, dim=-1)        # turn into probabilities\n",
    "            #print('probs')\n",
    "            #print(probs)\n",
    "            index_next = torch.multinomial(probs, 1) # sample next token -> (B,1)\n",
    "            #print(index_next)\n",
    "            index = torch.cat((index, index_next), dim=1)\n",
    "        return index\n"
   ]
  },
  {
   "cell_type": "code",
   "execution_count": null,
   "id": "46c517dd",
   "metadata": {},
   "outputs": [],
   "source": []
  },
  {
   "cell_type": "code",
   "execution_count": null,
   "id": "88d5e1fb",
   "metadata": {},
   "outputs": [
    {
     "name": "stdout",
     "output_type": "stream",
     "text": [
      "tensor([[0]])\n",
      "index: tensor([[0]])\n",
      "index tensor([[0]])\n",
      "tensor([[[0.3367, 0.1288, 0.2345]]], grad_fn=<ViewBackward0>)\n",
      "index: tensor([[0, 0]])\n",
      "index tensor([[0, 0]])\n",
      "tensor([[[0.3367, 0.1288, 0.2345],\n",
      "         [0.3367, 0.1288, 0.2345]]], grad_fn=<ViewBackward0>)\n",
      "index: tensor([[0, 0, 1]])\n",
      "index tensor([[0, 0, 1]])\n",
      "tensor([[[ 0.3367,  0.1288,  0.2345],\n",
      "         [ 0.3367,  0.1288,  0.2345],\n",
      "         [ 0.2303, -1.1229, -0.1863]]], grad_fn=<ViewBackward0>)\n",
      "index: tensor([[0, 0, 1, 0]])\n",
      "index tensor([[0, 0, 1, 0]])\n",
      "tensor([[[ 0.3367,  0.1288,  0.2345],\n",
      "         [ 0.3367,  0.1288,  0.2345],\n",
      "         [ 0.2303, -1.1229, -0.1863],\n",
      "         [ 0.3367,  0.1288,  0.2345]]], grad_fn=<ViewBackward0>)\n",
      "index: tensor([[0, 0, 1, 0, 1]])\n",
      "index tensor([[0, 0, 1, 0, 1]])\n",
      "tensor([[[ 0.3367,  0.1288,  0.2345],\n",
      "         [ 0.3367,  0.1288,  0.2345],\n",
      "         [ 0.2303, -1.1229, -0.1863],\n",
      "         [ 0.3367,  0.1288,  0.2345],\n",
      "         [ 0.2303, -1.1229, -0.1863]]], grad_fn=<ViewBackward0>)\n",
      "Indices: [[0, 0, 1, 0, 1, 2]]\n",
      "Decoded: aababc\n"
     ]
    }
   ],
   "source": [
    "torch.manual_seed(42)  # for reproducibility\n",
    "model = BigramLanguageModel(vocab_size)\n",
    "\n",
    "context = torch.zeros((1,1), dtype=torch.long)  # start with 'a' (index=0)\n",
    "print(context)\n",
    "output = model.generate(context, max_new_tokens=5)\n",
    "print(\"Indices:\", output.tolist())\n",
    "print(\"Decoded:\", decode(output[0].tolist()))\n"
   ]
  },
  {
   "cell_type": "code",
   "execution_count": null,
   "id": "9a680d30",
   "metadata": {},
   "outputs": [],
   "source": []
  }
 ],
 "metadata": {
  "kernelspec": {
   "display_name": "cuda",
   "language": "python",
   "name": "python3"
  },
  "language_info": {
   "codemirror_mode": {
    "name": "ipython",
    "version": 3
   },
   "file_extension": ".py",
   "mimetype": "text/x-python",
   "name": "python",
   "nbconvert_exporter": "python",
   "pygments_lexer": "ipython3",
   "version": "3.9.0"
  }
 },
 "nbformat": 4,
 "nbformat_minor": 5
}
