{
 "cells": [
  {
   "cell_type": "code",
   "execution_count": 14,
   "id": "9eb78fab-14d2-48cf-9ae5-b871bc765a6b",
   "metadata": {},
   "outputs": [
    {
     "name": "stdout",
     "output_type": "stream",
     "text": [
      "cpu\n"
     ]
    }
   ],
   "source": [
    "import torch\n",
    "device = 'cuda' if torch.cuda.is_available() else 'cpu'\n",
    "print(device)\n",
    "\n",
    "block_size = 8\n",
    "batch_size = 4"
   ]
  },
  {
   "cell_type": "code",
   "execution_count": 3,
   "id": "6bc7ea54-fe5d-4d71-a724-dd553765085c",
   "metadata": {},
   "outputs": [
    {
     "name": "stdout",
     "output_type": "stream",
     "text": [
      "﻿\n",
      "\n",
      "=== PLATO ===\n",
      "\n",
      "How you, O Athenians, have been affected by my accusers, I cannot tell;\n",
      "but I know that they almost made me forget who I was—so persuasively\n",
      "did they speak; and yet they have hardly \n"
     ]
    }
   ],
   "source": [
    "# read in our corpus into text string\n",
    "\n",
    "with open('data\\philosophers.txt','r', encoding='utf-8') as f:\n",
    "    text = f.read()\n",
    "print(text[:200])"
   ]
  },
  {
   "cell_type": "code",
   "execution_count": 4,
   "id": "b0d6d79d-341e-48ae-9447-e33f42f4b6df",
   "metadata": {},
   "outputs": [
    {
     "name": "stdout",
     "output_type": "stream",
     "text": [
      "['\\n', ' ', '!', '\"', \"'\", '(', ')', '*', ',', '-', '.', '0', '1', '2', '3', '4', '5', '6', '7', '8', '9', ':', ';', '=', '?', 'A', 'B', 'C', 'D', 'E', 'F', 'G', 'H', 'I', 'J', 'K', 'L', 'M', 'N', 'O', 'P', 'Q', 'R', 'S', 'T', 'U', 'V', 'W', 'X', 'Y', 'Z', '[', ']', '_', 'a', 'b', 'c', 'd', 'e', 'f', 'g', 'h', 'i', 'j', 'k', 'l', 'm', 'n', 'o', 'p', 'q', 'r', 's', 't', 'u', 'v', 'w', 'x', 'y', 'z', 'æ', '—', '’', '“', '”', '\\ufeff']\n"
     ]
    }
   ],
   "source": [
    "# list of unique characters in the corpus\n",
    "\n",
    "chars = sorted(set(text))\n",
    "print(chars)"
   ]
  },
  {
   "cell_type": "code",
   "execution_count": 5,
   "id": "0ac13923-fc9b-4c63-91e6-db58e0aaaed4",
   "metadata": {},
   "outputs": [],
   "source": [
    "# encoder and decoder for strings to integers and vice versa\n",
    "\n",
    "string_to_int = {ch:i for i,ch in enumerate(chars)}\n",
    "int_to_string = {i:ch for i,ch in enumerate(chars)}\n",
    "encode = lambda s: [string_to_int[c] for c in s]\n",
    "decode = lambda l: ''.join([int_to_string[i] for i in l])"
   ]
  },
  {
   "cell_type": "code",
   "execution_count": 7,
   "id": "e1c2aa1a-b794-4948-98fd-44537820a024",
   "metadata": {},
   "outputs": [
    {
     "name": "stdout",
     "output_type": "stream",
     "text": [
      "[61, 58, 65, 65, 68]\n"
     ]
    }
   ],
   "source": [
    "# example of encoder and decoder at work\n",
    "\n",
    "encoded_hello = encode('hello')\n",
    "decoded_hello = decode(encoded_hello)\n",
    "print(encoded_hello)\n",
    "print(decoded_hello)"
   ]
  },
  {
   "cell_type": "code",
   "execution_count": 9,
   "id": "1d1e0cc3-9a8a-4ef3-9c2f-3b46193d8de1",
   "metadata": {},
   "outputs": [],
   "source": [
    "# encode the entire text into a tensor\n",
    "\n",
    "data = torch.tensor(encode(text), dtype=torch.long)"
   ]
  },
  {
   "cell_type": "code",
   "execution_count": 10,
   "id": "aa26b072-73bb-42a1-94c2-eec55fc768ba",
   "metadata": {},
   "outputs": [
    {
     "name": "stdout",
     "output_type": "stream",
     "text": [
      "tensor([85,  0,  0, 23, 23, 23,  1, 40, 36, 25, 44, 39,  1, 23, 23, 23,  0,  0,\n",
      "        32, 68, 76,  1, 78, 68, 74,  8,  1, 39,  1, 25, 73, 61, 58, 67, 62, 54,\n",
      "        67, 72,  8,  1, 61, 54, 75, 58,  1, 55, 58, 58, 67,  1, 54, 59, 59, 58,\n",
      "        56, 73, 58, 57,  1, 55, 78,  1, 66, 78,  1, 54, 56, 56, 74, 72, 58, 71,\n",
      "        72,  8,  1, 33,  1, 56, 54, 67, 67, 68, 73,  1, 73, 58, 65, 65, 22,  0,\n",
      "        55, 74, 73,  1, 33,  1, 64, 67, 68, 76])\n"
     ]
    }
   ],
   "source": [
    "print(data[:100])"
   ]
  },
  {
   "cell_type": "code",
   "execution_count": 11,
   "id": "f61eaea0-6c2c-4d29-bffd-53ddb21416eb",
   "metadata": {},
   "outputs": [],
   "source": [
    "# use first 80% of corpus for training; remaining 20% for validation\n",
    "n = int(0.8 * len(data))\n",
    "train_data = data[:n]\n",
    "val_data = data[n:]"
   ]
  },
  {
   "cell_type": "code",
   "execution_count": 13,
   "id": "032ebe4a-4dcc-49ac-81b8-511e2fb79ef3",
   "metadata": {},
   "outputs": [
    {
     "name": "stdout",
     "output_type": "stream",
     "text": [
      "when input is tensor([85]), target is 0\n",
      "when input is tensor([85,  0]), target is 0\n",
      "when input is tensor([85,  0,  0]), target is 23\n",
      "when input is tensor([85,  0,  0, 23]), target is 23\n",
      "when input is tensor([85,  0,  0, 23, 23]), target is 23\n",
      "when input is tensor([85,  0,  0, 23, 23, 23]), target is 1\n",
      "when input is tensor([85,  0,  0, 23, 23, 23,  1]), target is 40\n",
      "when input is tensor([85,  0,  0, 23, 23, 23,  1, 40]), target is 36\n"
     ]
    }
   ],
   "source": [
    "# sample of context and targets at work. context representing what the model sees, and target represents what the model is trying to predict.\n",
    "x = train_data[:block_size]\n",
    "y = train_data [1:block_size+1]\n",
    "\n",
    "for t in range (block_size):\n",
    "    context = x[:t+1]\n",
    "    target = y[t]\n",
    "    print(f'when input is {context}, target is {target}')"
   ]
  },
  {
   "cell_type": "code",
   "execution_count": null,
   "id": "a2b497fa-1c8d-4ade-b853-d55b56708011",
   "metadata": {},
   "outputs": [],
   "source": [
    "# batch size: number of blocks to run in parallel\n",
    "\n"
   ]
  },
  {
   "cell_type": "code",
   "execution_count": null,
   "id": "0ba36094-eb84-4f03-9d3a-86649b5eda8b",
   "metadata": {},
   "outputs": [],
   "source": []
  }
 ],
 "metadata": {
  "kernelspec": {
   "display_name": "cuda-gpt",
   "language": "python",
   "name": "cuda"
  },
  "language_info": {
   "codemirror_mode": {
    "name": "ipython",
    "version": 3
   },
   "file_extension": ".py",
   "mimetype": "text/x-python",
   "name": "python",
   "nbconvert_exporter": "python",
   "pygments_lexer": "ipython3",
   "version": "3.9.0"
  }
 },
 "nbformat": 4,
 "nbformat_minor": 5
}
